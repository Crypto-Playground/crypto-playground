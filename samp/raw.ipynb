{
 "cells": [
  {
   "cell_type": "code",
   "execution_count": 7,
   "source": [
    "import requests\n",
    "\n",
    "URL = \"https://ropsten.infura.io/v3/9aa3d95b3bc440fa88ea12eaa4456161\"\n",
    "\n",
    "payload = {\n",
    "  \"jsonrpc\": \"2.0\",\n",
    "  \"method\": \"eth_blockNumber\",\n",
    "  \"params\": [],\n",
    "  \"id\": 1,\n",
    "}\n",
    "response = requests.post(URL, json=payload)\n",
    "result = response.json()[\"result\"]\n",
    "latest_block_number = int(result, 16)\n",
    "print(f\"{latest_block_number:,}\")\n"
   ],
   "outputs": [
    {
     "output_type": "stream",
     "name": "stdout",
     "text": [
      "11,054,972\n"
     ]
    }
   ],
   "metadata": {}
  },
  {
   "cell_type": "code",
   "execution_count": 10,
   "source": [
    "payload = {\n",
    "  \"jsonrpc\": \"2.0\",\n",
    "  \"method\": \"eth_getBalance\",\n",
    "  \"params\": [\n",
    "    \"0x15bFA2af0092ea5A270ac053Af41a101B0F603aB\",\n",
    "    \"latest\"\n",
    "  ], \n",
    "  \"id\": 1\n",
    "}\n",
    "response = requests.post(URL, json=payload)\n",
    "print(response.json())\n",
    "result = response.json()[\"result\"]\n",
    "current_balance = int(result, 16)\n",
    "print(f\"{current_balance:,}\")\n"
   ],
   "outputs": [
    {
     "output_type": "stream",
     "name": "stdout",
     "text": [
      "{'jsonrpc': '2.0', 'id': 1, 'result': '0x429d069189e0000'}\n",
      "300,000,000,000,000,000\n"
     ]
    }
   ],
   "metadata": {}
  },
  {
   "cell_type": "code",
   "execution_count": 45,
   "source": [
    "def wei2eth(wei: int) -> float:\n",
    "  return round(wei * 10**-18, 16)\n",
    "\n",
    "def eth2wei(eth: float) -> int:\n",
    "  return round(eth * 10**18)\n",
    "\n",
    "def gwei2eth(gwei: int) -> float:\n",
    "  return gwei * 10**-9\n",
    "\n",
    "def gwei2wei(gwei: int) -> int:\n",
    "  return gwei * 10**9\n",
    "\n",
    "def hex2i(hex: str) -> int:\n",
    "  return int(hex, 16)\n",
    "\n",
    "def format_n(n) -> str:\n",
    "  return f\"{n:,}\"\n",
    "\n",
    "def format_hex_wei(hex: str) -> str:\n",
    "  return format_n(wei2eth(hex2i(hex)))\n",
    "\n",
    "def payload(method: str, *params):\n",
    "  return {\"jsonrpc\": \"2.0\", \"method\": method, \"params\": params, \"id\": 1}\n",
    "\n",
    "def rpc(method: str, *params):\n",
    "  p = payload(method, *params)\n",
    "  response = requests.post(URL, json=p)\n",
    "  data = response.json()\n",
    "  if \"error\" in data:\n",
    "    raise Exception(data[\"error\"])\n",
    "  return data[\"result\"]\n",
    "\n",
    "result = rpc(\"eth_getBalance\", \"0x15bFA2af0092ea5A270ac053Af41a101B0F603aB\", \"latest\")\n",
    "\n",
    "def eth_get_balance(account: str, block: str = \"latest\") -> str:\n",
    "  return rpc(\"eth_getBalance\", account, block)\n",
    "\n",
    "ACCOUNT1 = \"0x15bFA2af0092ea5A270ac053Af41a101B0F603aB\"\n",
    "ACCOUNT2 = \"0x0e1176663c2c1B2A19f55FF2b81934cd29937C58\"\n",
    "\n",
    "print(format_hex_wei(eth_get_balance(ACCOUNT1)))\n",
    "print(format_hex_wei(eth_get_balance(ACCOUNT2)))\n",
    "\n"
   ],
   "outputs": [
    {
     "output_type": "stream",
     "name": "stdout",
     "text": [
      "0.3\n",
      "0.3\n"
     ]
    }
   ],
   "metadata": {}
  },
  {
   "cell_type": "code",
   "execution_count": 121,
   "source": [
    "ACCOUNT2 = \"0xc8fCb68700Cd780979d2B71Bc2135c1931F015Ba\"\n",
    "\n",
    "send_money_txn = {\n",
    "  \"from\": ACCOUNT1,\n",
    "  \"to\": ACCOUNT2,\n",
    "  \"gas\": 21_000,\n",
    "  \"gasPrice\": hex(gwei2wei(50)),\n",
    "  \"value\": hex(eth2wei(0.25)),\n",
    "  \"data\": \"0x\",\n",
    "}\n",
    "\n",
    "result = rpc(\"eth_sendTransaction\", send_money_txn)\n",
    "print(result)"
   ],
   "outputs": [
    {
     "output_type": "error",
     "ename": "Exception",
     "evalue": "{'code': -32601, 'message': 'The method eth_sendTransaction does not exist/is not available'}",
     "traceback": [
      "\u001b[0;31m---------------------------------------------------------------------------\u001b[0m",
      "\u001b[0;31mException\u001b[0m                                 Traceback (most recent call last)",
      "\u001b[0;32m/var/folders/ps/q7wk2c0n30vcfj3x6fwxfgcr0000gn/T/ipykernel_49678/2841661344.py\u001b[0m in \u001b[0;36m<module>\u001b[0;34m\u001b[0m\n\u001b[1;32m     10\u001b[0m }\n\u001b[1;32m     11\u001b[0m \u001b[0;34m\u001b[0m\u001b[0m\n\u001b[0;32m---> 12\u001b[0;31m \u001b[0mresult\u001b[0m \u001b[0;34m=\u001b[0m \u001b[0mrpc\u001b[0m\u001b[0;34m(\u001b[0m\u001b[0;34m\"eth_sendTransaction\"\u001b[0m\u001b[0;34m,\u001b[0m \u001b[0msend_money_txn\u001b[0m\u001b[0;34m)\u001b[0m\u001b[0;34m\u001b[0m\u001b[0;34m\u001b[0m\u001b[0m\n\u001b[0m\u001b[1;32m     13\u001b[0m \u001b[0mprint\u001b[0m\u001b[0;34m(\u001b[0m\u001b[0mresult\u001b[0m\u001b[0;34m)\u001b[0m\u001b[0;34m\u001b[0m\u001b[0;34m\u001b[0m\u001b[0m\n",
      "\u001b[0;32m/var/folders/ps/q7wk2c0n30vcfj3x6fwxfgcr0000gn/T/ipykernel_49678/1572479216.py\u001b[0m in \u001b[0;36mrpc\u001b[0;34m(method, *params)\u001b[0m\n\u001b[1;32m     28\u001b[0m   \u001b[0mdata\u001b[0m \u001b[0;34m=\u001b[0m \u001b[0mresponse\u001b[0m\u001b[0;34m.\u001b[0m\u001b[0mjson\u001b[0m\u001b[0;34m(\u001b[0m\u001b[0;34m)\u001b[0m\u001b[0;34m\u001b[0m\u001b[0;34m\u001b[0m\u001b[0m\n\u001b[1;32m     29\u001b[0m   \u001b[0;32mif\u001b[0m \u001b[0;34m\"error\"\u001b[0m \u001b[0;32min\u001b[0m \u001b[0mdata\u001b[0m\u001b[0;34m:\u001b[0m\u001b[0;34m\u001b[0m\u001b[0;34m\u001b[0m\u001b[0m\n\u001b[0;32m---> 30\u001b[0;31m     \u001b[0;32mraise\u001b[0m \u001b[0mException\u001b[0m\u001b[0;34m(\u001b[0m\u001b[0mdata\u001b[0m\u001b[0;34m[\u001b[0m\u001b[0;34m\"error\"\u001b[0m\u001b[0;34m]\u001b[0m\u001b[0;34m)\u001b[0m\u001b[0;34m\u001b[0m\u001b[0;34m\u001b[0m\u001b[0m\n\u001b[0m\u001b[1;32m     31\u001b[0m   \u001b[0;32mreturn\u001b[0m \u001b[0mdata\u001b[0m\u001b[0;34m[\u001b[0m\u001b[0;34m\"result\"\u001b[0m\u001b[0;34m]\u001b[0m\u001b[0;34m\u001b[0m\u001b[0;34m\u001b[0m\u001b[0m\n\u001b[1;32m     32\u001b[0m \u001b[0;34m\u001b[0m\u001b[0m\n",
      "\u001b[0;31mException\u001b[0m: {'code': -32601, 'message': 'The method eth_sendTransaction does not exist/is not available'}"
     ]
    }
   ],
   "metadata": {}
  },
  {
   "cell_type": "code",
   "execution_count": 58,
   "source": [
    "from eth_account.account import Account\n",
    "\n",
    "ACCOUNT1_PRIVATE = \"0x0316192f8744be9ec18ce67f014ee1e33942cce1bedbfc861d8b8ea298f6caed\"\n",
    "\n",
    "account1 = Account.from_key(ACCOUNT1_PRIVATE)\n",
    "print(account1.address)\n",
    "\n",
    "transaction = {\n",
    "  \"type\": 2,\n",
    "  \"gas\": 23_000,\n",
    "  \"maxFeePerGas\": gwei2wei(10),\n",
    "  \"maxPriorityFeePerGas\": gwei2wei(10),\n",
    "  \"to\": ACCOUNT2,\n",
    "  \"value\": hex(eth2wei(0.1)),\n",
    "  \"data\": \"0x\",\n",
    "  \"nonce\": 0,\n",
    "  \"chainId\": 3,\n",
    "}\n",
    "\n",
    "signed_transaction = account1.sign_transaction(transaction)\n",
    "raw_transaction = signed_transaction.rawTransaction\n",
    "print(raw_transaction.hex())\n",
    "\n",
    "result = rpc(\"eth_sendRawTransaction\", raw_transaction.hex())\n",
    "print(result)"
   ],
   "outputs": [
    {
     "output_type": "stream",
     "name": "stdout",
     "text": [
      "0x15bFA2af0092ea5A270ac053Af41a101B0F603aB\n",
      "0x02f87403808502540be4008502540be4008259d8940e1176663c2c1b2a19f55ff2b81934cd29937c5888016345785d8a000080c001a00af56be8a7515e21439e6894a0d09cac439006ed450d589d3416748e0c5543dea031df494a428f406b941a35380f3134a8286588a15b5bfc8cfce7a0ed6b289006\n",
      "0xe6edfd8f8beaace99bfec0dac80dfca4b7540d889dcf701beed47c00ed65ffd4\n"
     ]
    }
   ],
   "metadata": {}
  },
  {
   "cell_type": "code",
   "execution_count": 72,
   "source": [
    "first_hello_bin = \"0x608060405234801561001057600080fd5b50610182806100206000396000f3fe608060405234801561001057600080fd5b506004361061002b5760003560e01c8063ef5fb05b14610030575b600080fd5b61003861004e565b60405161004591906100a7565b60405180910390f35b606060405180606001604052806023815260200161012a60239139905090565b6000610079826100c9565b61008381856100d4565b93506100938185602086016100e5565b61009c81610118565b840191505092915050565b600060208201905081810360008301526100c1818461006e565b905092915050565b600081519050919050565b600082825260208201905092915050565b60005b838110156101035780820151818401526020810190506100e8565b83811115610112576000848401525b50505050565b6000601f19601f830116905091905056fe48656c6c6f2066726f6d2074686520466972737448656c6c6f20636f6e747261637421a2646970667358221220587f9774aed2ad740d3ff29784a9464bbdf322057f9c2873afc99c5949f9de8064736f6c63430008070033\"\n",
    "\n",
    "create_contract_txn = {\n",
    "  \"type\": 2,\n",
    "  \"gas\": 1_000_000,\n",
    "  \"maxFeePerGas\": gwei2wei(21),\n",
    "  \"maxPriorityFeePerGas\": gwei2wei(21),\n",
    "  \"data\": first_hello_bin,\n",
    "  \"nonce\": 2,\n",
    "  \"chainId\": 3,\n",
    "}\n",
    "\n",
    "signed_create_contract_txn = account1.sign_transaction(create_contract_txn)\n",
    "raw_cc_txn = signed_create_contract_txn.rawTransaction\n",
    "print(raw_cc_txn.hex())\n",
    "\n",
    "result = rpc(\"eth_sendRawTransaction\", raw_cc_txn.hex())\n",
    "print(result)\n"
   ],
   "outputs": [
    {
     "output_type": "stream",
     "name": "stdout",
     "text": [
      "0x02f901fd03028504e3b292008504e3b29200830f42408080b901a2608060405234801561001057600080fd5b50610182806100206000396000f3fe608060405234801561001057600080fd5b506004361061002b5760003560e01c8063ef5fb05b14610030575b600080fd5b61003861004e565b60405161004591906100a7565b60405180910390f35b606060405180606001604052806023815260200161012a60239139905090565b6000610079826100c9565b61008381856100d4565b93506100938185602086016100e5565b61009c81610118565b840191505092915050565b600060208201905081810360008301526100c1818461006e565b905092915050565b600081519050919050565b600082825260208201905092915050565b60005b838110156101035780820151818401526020810190506100e8565b83811115610112576000848401525b50505050565b6000601f19601f830116905091905056fe48656c6c6f2066726f6d2074686520466972737448656c6c6f20636f6e747261637421a2646970667358221220587f9774aed2ad740d3ff29784a9464bbdf322057f9c2873afc99c5949f9de8064736f6c63430008070033c080a0250cf53c4b6c8cf8a49880eb0c05ebd70df91c798c9ac693879088a5d2910ee7a037fc094d6a8ddd4b4310671dd856c0ea6608866af05f0f4cbb1cd630c8cbb215\n",
      "0x4747689247dd81662f64c3a10de09d7a63a4c85e4441c4b42c1288de8dc8f4a8\n"
     ]
    }
   ],
   "metadata": {}
  },
  {
   "cell_type": "code",
   "execution_count": 102,
   "source": [
    "from Crypto.Hash import keccak\n",
    "\n",
    "FIRST_HELLO_CONTRACT = \"0xc84f554717bf618ab168b93881c3fc1cdab42d49\"\n",
    "\n",
    "say_hello_method = \"sayHello()\"\n",
    "\n",
    "hasher = keccak.new(digest_bits=256)\n",
    "hasher.update(say_hello_method.encode(\"ascii\"))\n",
    "say_hello_method_id = \"0x\" + hasher.digest()[:4].hex()\n",
    "\n",
    "print(say_hello_method_id)\n",
    "\n",
    "say_hello_call = {\n",
    "  \"to\": FIRST_HELLO_CONTRACT,\n",
    "  \"data\": say_hello_method_id,\n",
    "}\n",
    "\n",
    "result = rpc(\"eth_call\", say_hello_call, \"latest\")\n",
    "print(result)\n"
   ],
   "outputs": [
    {
     "output_type": "stream",
     "name": "stdout",
     "text": [
      "0xef5fb05b\n",
      "0x0000000000000000000000000000000000000000000000000000000000000020000000000000000000000000000000000000000000000000000000000000002348656c6c6f2066726f6d2074686520466972737448656c6c6f20636f6e7472616374210000000000000000000000000000000000000000000000000000000000\n"
     ]
    }
   ],
   "metadata": {}
  },
  {
   "cell_type": "code",
   "execution_count": 120,
   "source": [
    "from eth_abi import decode_abi\n",
    "result_bytes = bytes.fromhex(x[2:])\n",
    "decode_abi(['string'], result_bytes)\n"
   ],
   "outputs": [
    {
     "output_type": "execute_result",
     "data": {
      "text/plain": [
       "'Hello from the FirstHello contract!'"
      ]
     },
     "metadata": {},
     "execution_count": 120
    }
   ],
   "metadata": {}
  },
  {
   "cell_type": "code",
   "execution_count": 109,
   "source": [
    "# call_with_txn = {\n",
    "#   \"type\": 2,\n",
    "#   \"gas\": 1_000_000,\n",
    "#   \"maxFeePerGas\": gwei2wei(21),\n",
    "#   \"maxPriorityFeePerGas\": gwei2wei(21),\n",
    "#   \"data\": say_hello_method_id,\n",
    "#   \"to\": FIRST_HELLO_CONTRACT,\n",
    "#   \"value\": \"0x\",\n",
    "#   \"nonce\": 0,\n",
    "#   \"chainId\": 3,\n",
    "# }\n",
    "\n",
    "# signed_call_with_txn = account1.sign_transaction(call_with_txn)\n",
    "# raw_call_with_txn = signed_call_with_txn.rawTransaction\n",
    "# print(raw_call_with_txn.hex())\n"
   ],
   "outputs": [],
   "metadata": {}
  }
 ],
 "metadata": {
  "orig_nbformat": 4,
  "language_info": {
   "name": "python",
   "version": "3.9.7",
   "mimetype": "text/x-python",
   "codemirror_mode": {
    "name": "ipython",
    "version": 3
   },
   "pygments_lexer": "ipython3",
   "nbconvert_exporter": "python",
   "file_extension": ".py"
  },
  "kernelspec": {
   "name": "python3",
   "display_name": "Python 3.9.7 64-bit ('eth1-cW3lKcoQ': pipenv)"
  },
  "interpreter": {
   "hash": "dcc251d93921497310c910d7643ba620005e52ff73e8e6a6760a23f60e74ed9c"
  }
 },
 "nbformat": 4,
 "nbformat_minor": 2
}